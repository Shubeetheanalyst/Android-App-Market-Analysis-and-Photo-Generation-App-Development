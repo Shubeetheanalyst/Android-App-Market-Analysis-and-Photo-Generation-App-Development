{
 "cells": [
  {
   "cell_type": "markdown",
   "id": "658db0ea",
   "metadata": {},
   "source": [
    "## Analyzing Popular App Categories on Google Play Store"
   ]
  },
  {
   "cell_type": "markdown",
   "id": "65b44849",
   "metadata": {},
   "source": [
    "+ In this project, our goal is to figure out what types of apps tend to be popular on the Google Play Store. We work for a company that makes free apps and earn money through ads. By understanding which app categories are in high demand. We can help our developers create apps that attracts more users and generate more revenue. We'll analyze data from the Google play store to identity patterns andpreferences among users. This way, we can make smater decision about the kinds of apps we develope."
   ]
  },
  {
   "cell_type": "code",
   "execution_count": 157,
   "id": "5b7b78e9",
   "metadata": {},
   "outputs": [],
   "source": [
    "#Importing required Libraries\n",
    "import pandas as pd\n",
    "import numpy as np\n",
    "import matplotlib.pyplot as plt\n",
    "import seaborn as sns"
   ]
  },
  {
   "cell_type": "code",
   "execution_count": 158,
   "id": "41770ad5",
   "metadata": {},
   "outputs": [],
   "source": [
    "# hide all warnings runtime\n",
    "import warnings\n",
    "warnings.filterwarnings('ignore')"
   ]
  },
  {
   "cell_type": "markdown",
   "id": "3a9fe68a",
   "metadata": {},
   "source": [
    "### Data Cleaning and Pre-processing"
   ]
  },
  {
   "cell_type": "code",
   "execution_count": 159,
   "id": "14c75f0a",
   "metadata": {},
   "outputs": [],
   "source": [
    "# Read the csv file \n",
    "df = pd.read_csv(\"googleplaystore.csv\")"
   ]
  },
  {
   "cell_type": "code",
   "execution_count": 160,
   "id": "23aa2cab",
   "metadata": {},
   "outputs": [
    {
     "data": {
      "text/plain": [
       "(10841, 13)"
      ]
     },
     "execution_count": 160,
     "metadata": {},
     "output_type": "execute_result"
    }
   ],
   "source": [
    "df.shape"
   ]
  },
  {
   "cell_type": "code",
   "execution_count": 161,
   "id": "54390678",
   "metadata": {},
   "outputs": [
    {
     "data": {
      "text/html": [
       "<div>\n",
       "<style scoped>\n",
       "    .dataframe tbody tr th:only-of-type {\n",
       "        vertical-align: middle;\n",
       "    }\n",
       "\n",
       "    .dataframe tbody tr th {\n",
       "        vertical-align: top;\n",
       "    }\n",
       "\n",
       "    .dataframe thead th {\n",
       "        text-align: right;\n",
       "    }\n",
       "</style>\n",
       "<table border=\"1\" class=\"dataframe\">\n",
       "  <thead>\n",
       "    <tr style=\"text-align: right;\">\n",
       "      <th></th>\n",
       "      <th>App</th>\n",
       "      <th>Category</th>\n",
       "      <th>Rating</th>\n",
       "      <th>Reviews</th>\n",
       "      <th>Size</th>\n",
       "      <th>Installs</th>\n",
       "      <th>Type</th>\n",
       "      <th>Price</th>\n",
       "      <th>Content Rating</th>\n",
       "      <th>Genres</th>\n",
       "      <th>Last Updated</th>\n",
       "      <th>Current Ver</th>\n",
       "      <th>Android Ver</th>\n",
       "    </tr>\n",
       "  </thead>\n",
       "  <tbody>\n",
       "    <tr>\n",
       "      <th>0</th>\n",
       "      <td>Photo Editor &amp; Candy Camera &amp; Grid &amp; ScrapBook</td>\n",
       "      <td>ART_AND_DESIGN</td>\n",
       "      <td>4.1</td>\n",
       "      <td>159</td>\n",
       "      <td>19M</td>\n",
       "      <td>10,000+</td>\n",
       "      <td>Free</td>\n",
       "      <td>0</td>\n",
       "      <td>Everyone</td>\n",
       "      <td>Art &amp; Design</td>\n",
       "      <td>January 7, 2018</td>\n",
       "      <td>1.0.0</td>\n",
       "      <td>4.0.3 and up</td>\n",
       "    </tr>\n",
       "    <tr>\n",
       "      <th>1</th>\n",
       "      <td>Coloring book moana</td>\n",
       "      <td>ART_AND_DESIGN</td>\n",
       "      <td>3.9</td>\n",
       "      <td>967</td>\n",
       "      <td>14M</td>\n",
       "      <td>500,000+</td>\n",
       "      <td>Free</td>\n",
       "      <td>0</td>\n",
       "      <td>Everyone</td>\n",
       "      <td>Art &amp; Design;Pretend Play</td>\n",
       "      <td>January 15, 2018</td>\n",
       "      <td>2.0.0</td>\n",
       "      <td>4.0.3 and up</td>\n",
       "    </tr>\n",
       "  </tbody>\n",
       "</table>\n",
       "</div>"
      ],
      "text/plain": [
       "                                              App        Category  Rating  \\\n",
       "0  Photo Editor & Candy Camera & Grid & ScrapBook  ART_AND_DESIGN     4.1   \n",
       "1                             Coloring book moana  ART_AND_DESIGN     3.9   \n",
       "\n",
       "  Reviews Size  Installs  Type Price Content Rating  \\\n",
       "0     159  19M   10,000+  Free     0       Everyone   \n",
       "1     967  14M  500,000+  Free     0       Everyone   \n",
       "\n",
       "                      Genres      Last Updated Current Ver   Android Ver  \n",
       "0               Art & Design   January 7, 2018       1.0.0  4.0.3 and up  \n",
       "1  Art & Design;Pretend Play  January 15, 2018       2.0.0  4.0.3 and up  "
      ]
     },
     "execution_count": 161,
     "metadata": {},
     "output_type": "execute_result"
    }
   ],
   "source": [
    "# Explore the Data\n",
    "df.head(2)"
   ]
  },
  {
   "cell_type": "code",
   "execution_count": 162,
   "id": "0ca337b6",
   "metadata": {},
   "outputs": [
    {
     "name": "stdout",
     "output_type": "stream",
     "text": [
      "The name of the columns are as follows: Index(['App', 'Category', 'Rating', 'Reviews', 'Size', 'Installs', 'Type',\n",
      "       'Price', 'Content Rating', 'Genres', 'Last Updated', 'Current Ver',\n",
      "       'Android Ver'],\n",
      "      dtype='object')\n"
     ]
    }
   ],
   "source": [
    "# Print the columns name\n",
    "print(f\"The name of the columns are as follows: \\\n",
    "{df.columns}\")"
   ]
  },
  {
   "cell_type": "code",
   "execution_count": 163,
   "id": "53747488",
   "metadata": {},
   "outputs": [
    {
     "name": "stdout",
     "output_type": "stream",
     "text": [
      "<class 'pandas.core.frame.DataFrame'>\n",
      "RangeIndex: 10841 entries, 0 to 10840\n",
      "Data columns (total 13 columns):\n",
      " #   Column          Non-Null Count  Dtype  \n",
      "---  ------          --------------  -----  \n",
      " 0   App             10841 non-null  object \n",
      " 1   Category        10841 non-null  object \n",
      " 2   Rating          9367 non-null   float64\n",
      " 3   Reviews         10841 non-null  object \n",
      " 4   Size            10841 non-null  object \n",
      " 5   Installs        10841 non-null  object \n",
      " 6   Type            10840 non-null  object \n",
      " 7   Price           10841 non-null  object \n",
      " 8   Content Rating  10840 non-null  object \n",
      " 9   Genres          10841 non-null  object \n",
      " 10  Last Updated    10841 non-null  object \n",
      " 11  Current Ver     10833 non-null  object \n",
      " 12  Android Ver     10838 non-null  object \n",
      "dtypes: float64(1), object(12)\n",
      "memory usage: 1.1+ MB\n"
     ]
    }
   ],
   "source": [
    "# Check the data\n",
    "df.info()"
   ]
  },
  {
   "cell_type": "markdown",
   "id": "aa2da13f",
   "metadata": {},
   "source": [
    "### Observations"
   ]
  },
  {
   "cell_type": "markdown",
   "id": "7b4272af",
   "metadata": {},
   "source": [
    "1. There are 10841 rows and 13 columns in the dataset\n",
    "2. The columns are of different data types\n",
    "3. There are some missing values in the dataset.\n",
    "4. There are some columns which are of object data type but they should be of numeric data type"
   ]
  },
  {
   "cell_type": "markdown",
   "id": "9d03d31f",
   "metadata": {},
   "source": [
    "### Target Column: Category"
   ]
  },
  {
   "cell_type": "code",
   "execution_count": 164,
   "id": "2ff729db",
   "metadata": {},
   "outputs": [
    {
     "data": {
      "text/plain": [
       "FAMILY                 1972\n",
       "GAME                   1144\n",
       "TOOLS                   843\n",
       "MEDICAL                 463\n",
       "BUSINESS                460\n",
       "PRODUCTIVITY            424\n",
       "PERSONALIZATION         392\n",
       "COMMUNICATION           387\n",
       "SPORTS                  384\n",
       "LIFESTYLE               382\n",
       "FINANCE                 366\n",
       "HEALTH_AND_FITNESS      341\n",
       "PHOTOGRAPHY             335\n",
       "SOCIAL                  295\n",
       "NEWS_AND_MAGAZINES      283\n",
       "SHOPPING                260\n",
       "TRAVEL_AND_LOCAL        258\n",
       "DATING                  234\n",
       "BOOKS_AND_REFERENCE     231\n",
       "VIDEO_PLAYERS           175\n",
       "EDUCATION               156\n",
       "ENTERTAINMENT           149\n",
       "MAPS_AND_NAVIGATION     137\n",
       "FOOD_AND_DRINK          127\n",
       "HOUSE_AND_HOME           88\n",
       "LIBRARIES_AND_DEMO       85\n",
       "AUTO_AND_VEHICLES        85\n",
       "WEATHER                  82\n",
       "ART_AND_DESIGN           65\n",
       "EVENTS                   64\n",
       "PARENTING                60\n",
       "COMICS                   60\n",
       "BEAUTY                   53\n",
       "1.9                       1\n",
       "Name: Category, dtype: int64"
      ]
     },
     "execution_count": 164,
     "metadata": {},
     "output_type": "execute_result"
    }
   ],
   "source": [
    "# Check the Categories Count\n",
    "df[\"Category\"].value_counts()"
   ]
  },
  {
   "cell_type": "code",
   "execution_count": 165,
   "id": "c1b65fc1",
   "metadata": {},
   "outputs": [
    {
     "data": {
      "text/html": [
       "<div>\n",
       "<style scoped>\n",
       "    .dataframe tbody tr th:only-of-type {\n",
       "        vertical-align: middle;\n",
       "    }\n",
       "\n",
       "    .dataframe tbody tr th {\n",
       "        vertical-align: top;\n",
       "    }\n",
       "\n",
       "    .dataframe thead th {\n",
       "        text-align: right;\n",
       "    }\n",
       "</style>\n",
       "<table border=\"1\" class=\"dataframe\">\n",
       "  <thead>\n",
       "    <tr style=\"text-align: right;\">\n",
       "      <th></th>\n",
       "      <th>App</th>\n",
       "      <th>Category</th>\n",
       "      <th>Rating</th>\n",
       "      <th>Reviews</th>\n",
       "      <th>Size</th>\n",
       "      <th>Installs</th>\n",
       "      <th>Type</th>\n",
       "      <th>Price</th>\n",
       "      <th>Content Rating</th>\n",
       "      <th>Genres</th>\n",
       "      <th>Last Updated</th>\n",
       "      <th>Current Ver</th>\n",
       "      <th>Android Ver</th>\n",
       "    </tr>\n",
       "  </thead>\n",
       "  <tbody>\n",
       "    <tr>\n",
       "      <th>10472</th>\n",
       "      <td>Life Made WI-Fi Touchscreen Photo Frame</td>\n",
       "      <td>1.9</td>\n",
       "      <td>19.0</td>\n",
       "      <td>3.0M</td>\n",
       "      <td>1,000+</td>\n",
       "      <td>Free</td>\n",
       "      <td>0</td>\n",
       "      <td>Everyone</td>\n",
       "      <td>NaN</td>\n",
       "      <td>February 11, 2018</td>\n",
       "      <td>1.0.19</td>\n",
       "      <td>4.0 and up</td>\n",
       "      <td>NaN</td>\n",
       "    </tr>\n",
       "  </tbody>\n",
       "</table>\n",
       "</div>"
      ],
      "text/plain": [
       "                                           App Category  Rating Reviews  \\\n",
       "10472  Life Made WI-Fi Touchscreen Photo Frame      1.9    19.0    3.0M   \n",
       "\n",
       "         Size Installs Type     Price Content Rating             Genres  \\\n",
       "10472  1,000+     Free    0  Everyone            NaN  February 11, 2018   \n",
       "\n",
       "      Last Updated Current Ver Android Ver  \n",
       "10472       1.0.19  4.0 and up         NaN  "
      ]
     },
     "execution_count": 165,
     "metadata": {},
     "output_type": "execute_result"
    }
   ],
   "source": [
    "# Check the incorrect Categories\n",
    "df[df[\"Category\"] == \"1.9\"]"
   ]
  },
  {
   "cell_type": "markdown",
   "id": "8f3a2780",
   "metadata": {},
   "source": [
    "- After Check analyze there is a category is missing in the Category column."
   ]
  },
  {
   "cell_type": "code",
   "execution_count": 166,
   "id": "a0e285cc",
   "metadata": {},
   "outputs": [
    {
     "data": {
      "text/plain": [
       "array([['Life Made WI-Fi Touchscreen Photo Frame', '1.9', 19.0, '3.0M',\n",
       "        '1,000+', 'Free', '0', 'Everyone', nan, 'February 11, 2018',\n",
       "        '1.0.19', '4.0 and up', nan]], dtype=object)"
      ]
     },
     "execution_count": 166,
     "metadata": {},
     "output_type": "execute_result"
    }
   ],
   "source": [
    "# Extract the list\n",
    "lst = df[df[\"Category\"] == \"1.9\"].values\n",
    "lst"
   ]
  },
  {
   "cell_type": "code",
   "execution_count": 167,
   "id": "9ed99be6",
   "metadata": {},
   "outputs": [],
   "source": [
    "# Find the category name and clean the list\n",
    "clean_lst = ['Life Made WI-Fi Touchscreen Photo Frame', 'LIFESTYLE', '1.9', 19.0, '3.0M',\n",
    "        '1,000+', 'Free', '0', 'Everyone', 'LIFESTYLE', 'February 11, 2018',\n",
    "        '1.0.19', '4.0 and up']"
   ]
  },
  {
   "cell_type": "code",
   "execution_count": 168,
   "id": "331adc16",
   "metadata": {},
   "outputs": [],
   "source": [
    "# ubdate the row with the clean list\n",
    "df[df[\"Category\"] == \"1.9\"] = clean_lst"
   ]
  },
  {
   "cell_type": "code",
   "execution_count": 169,
   "id": "fe28c42e",
   "metadata": {},
   "outputs": [
    {
     "data": {
      "text/plain": [
       "FAMILY                 1972\n",
       "GAME                   1144\n",
       "TOOLS                   843\n",
       "MEDICAL                 463\n",
       "BUSINESS                460\n",
       "PRODUCTIVITY            424\n",
       "PERSONALIZATION         392\n",
       "COMMUNICATION           387\n",
       "SPORTS                  384\n",
       "LIFESTYLE               383\n",
       "FINANCE                 366\n",
       "HEALTH_AND_FITNESS      341\n",
       "PHOTOGRAPHY             335\n",
       "SOCIAL                  295\n",
       "NEWS_AND_MAGAZINES      283\n",
       "SHOPPING                260\n",
       "TRAVEL_AND_LOCAL        258\n",
       "DATING                  234\n",
       "BOOKS_AND_REFERENCE     231\n",
       "VIDEO_PLAYERS           175\n",
       "EDUCATION               156\n",
       "ENTERTAINMENT           149\n",
       "MAPS_AND_NAVIGATION     137\n",
       "FOOD_AND_DRINK          127\n",
       "HOUSE_AND_HOME           88\n",
       "AUTO_AND_VEHICLES        85\n",
       "LIBRARIES_AND_DEMO       85\n",
       "WEATHER                  82\n",
       "ART_AND_DESIGN           65\n",
       "EVENTS                   64\n",
       "PARENTING                60\n",
       "COMICS                   60\n",
       "BEAUTY                   53\n",
       "Name: Category, dtype: int64"
      ]
     },
     "execution_count": 169,
     "metadata": {},
     "output_type": "execute_result"
    }
   ],
   "source": [
    "# Now Check the Categories Values\n",
    "android_df = df[\"Category\"].value_counts()\n",
    "android_df"
   ]
  },
  {
   "cell_type": "markdown",
   "id": "8889a536",
   "metadata": {},
   "source": [
    "### Observation"
   ]
  },
  {
   "cell_type": "markdown",
   "id": "df19c53b",
   "metadata": {},
   "source": [
    "- we can see the above there is no messy value remaining in the Targeted column"
   ]
  },
  {
   "cell_type": "markdown",
   "id": "3775008c",
   "metadata": {},
   "source": [
    "### Target Column: App"
   ]
  },
  {
   "cell_type": "code",
   "execution_count": 170,
   "id": "46ab40bd",
   "metadata": {},
   "outputs": [
    {
     "data": {
      "text/plain": [
       "ROBLOX                                                9\n",
       "CBS Sports App - Scores, News, Stats & Watch Live     8\n",
       "ESPN                                                  7\n",
       "Duolingo: Learn Languages Free                        7\n",
       "Candy Crush Saga                                      7\n",
       "                                                     ..\n",
       "Meet U - Get Friends for Snapchat, Kik & Instagram    1\n",
       "U-Report                                              1\n",
       "U of I Community Credit Union                         1\n",
       "Waiting For U Launcher Theme                          1\n",
       "iHoroscope - 2018 Daily Horoscope & Astrology         1\n",
       "Name: App, Length: 9660, dtype: int64"
      ]
     },
     "execution_count": 170,
     "metadata": {},
     "output_type": "execute_result"
    }
   ],
   "source": [
    "# Now Check the App Count\n",
    "app_count = df['App'].value_counts()\n",
    "app_count"
   ]
  },
  {
   "cell_type": "markdown",
   "id": "5cc9301c",
   "metadata": {},
   "source": [
    "-  we explore that the Google Play data enough, we'll find that some of the apps have more than one entry. For instance, the app 'Instagram' has 4 entries."
   ]
  },
  {
   "cell_type": "code",
   "execution_count": 171,
   "id": "d5887d87",
   "metadata": {},
   "outputs": [
    {
     "data": {
      "text/plain": [
       "ROBLOX                                               9\n",
       "CBS Sports App - Scores, News, Stats & Watch Live    8\n",
       "ESPN                                                 7\n",
       "Duolingo: Learn Languages Free                       7\n",
       "Candy Crush Saga                                     7\n",
       "                                                    ..\n",
       "Transenger – Ts Dating and Chat for Free             2\n",
       "Random Video Chat                                    2\n",
       "Clover Dating App                                    2\n",
       "Docs To Go™ Free Office Suite                        2\n",
       "English Dictionary - Offline                         2\n",
       "Name: App, Length: 798, dtype: int64"
      ]
     },
     "execution_count": 171,
     "metadata": {},
     "output_type": "execute_result"
    }
   ],
   "source": [
    "# Check duplicate apps\n",
    "app_count[app_count > 1]"
   ]
  },
  {
   "cell_type": "markdown",
   "id": "2daa46b1",
   "metadata": {},
   "source": [
    "- Show above there are 798 application duplicated in this record"
   ]
  },
  {
   "cell_type": "code",
   "execution_count": 172,
   "id": "efad330b",
   "metadata": {},
   "outputs": [
    {
     "data": {
      "text/plain": [
       "True"
      ]
     },
     "execution_count": 172,
     "metadata": {},
     "output_type": "execute_result"
    }
   ],
   "source": [
    "# Check Instagram is in the duplicate record\n",
    "\"Instagram\" in app_count[app_count > 1].index"
   ]
  },
  {
   "cell_type": "code",
   "execution_count": 173,
   "id": "e269c68a",
   "metadata": {},
   "outputs": [
    {
     "data": {
      "text/html": [
       "<div>\n",
       "<style scoped>\n",
       "    .dataframe tbody tr th:only-of-type {\n",
       "        vertical-align: middle;\n",
       "    }\n",
       "\n",
       "    .dataframe tbody tr th {\n",
       "        vertical-align: top;\n",
       "    }\n",
       "\n",
       "    .dataframe thead th {\n",
       "        text-align: right;\n",
       "    }\n",
       "</style>\n",
       "<table border=\"1\" class=\"dataframe\">\n",
       "  <thead>\n",
       "    <tr style=\"text-align: right;\">\n",
       "      <th></th>\n",
       "      <th>App</th>\n",
       "      <th>Category</th>\n",
       "      <th>Rating</th>\n",
       "      <th>Reviews</th>\n",
       "      <th>Size</th>\n",
       "      <th>Installs</th>\n",
       "      <th>Type</th>\n",
       "      <th>Price</th>\n",
       "      <th>Content Rating</th>\n",
       "      <th>Genres</th>\n",
       "      <th>Last Updated</th>\n",
       "      <th>Current Ver</th>\n",
       "      <th>Android Ver</th>\n",
       "    </tr>\n",
       "  </thead>\n",
       "  <tbody>\n",
       "    <tr>\n",
       "      <th>2545</th>\n",
       "      <td>Instagram</td>\n",
       "      <td>SOCIAL</td>\n",
       "      <td>4.5</td>\n",
       "      <td>66577313</td>\n",
       "      <td>Varies with device</td>\n",
       "      <td>1,000,000,000+</td>\n",
       "      <td>Free</td>\n",
       "      <td>0</td>\n",
       "      <td>Teen</td>\n",
       "      <td>Social</td>\n",
       "      <td>July 31, 2018</td>\n",
       "      <td>Varies with device</td>\n",
       "      <td>Varies with device</td>\n",
       "    </tr>\n",
       "    <tr>\n",
       "      <th>2604</th>\n",
       "      <td>Instagram</td>\n",
       "      <td>SOCIAL</td>\n",
       "      <td>4.5</td>\n",
       "      <td>66577446</td>\n",
       "      <td>Varies with device</td>\n",
       "      <td>1,000,000,000+</td>\n",
       "      <td>Free</td>\n",
       "      <td>0</td>\n",
       "      <td>Teen</td>\n",
       "      <td>Social</td>\n",
       "      <td>July 31, 2018</td>\n",
       "      <td>Varies with device</td>\n",
       "      <td>Varies with device</td>\n",
       "    </tr>\n",
       "    <tr>\n",
       "      <th>2611</th>\n",
       "      <td>Instagram</td>\n",
       "      <td>SOCIAL</td>\n",
       "      <td>4.5</td>\n",
       "      <td>66577313</td>\n",
       "      <td>Varies with device</td>\n",
       "      <td>1,000,000,000+</td>\n",
       "      <td>Free</td>\n",
       "      <td>0</td>\n",
       "      <td>Teen</td>\n",
       "      <td>Social</td>\n",
       "      <td>July 31, 2018</td>\n",
       "      <td>Varies with device</td>\n",
       "      <td>Varies with device</td>\n",
       "    </tr>\n",
       "    <tr>\n",
       "      <th>3909</th>\n",
       "      <td>Instagram</td>\n",
       "      <td>SOCIAL</td>\n",
       "      <td>4.5</td>\n",
       "      <td>66509917</td>\n",
       "      <td>Varies with device</td>\n",
       "      <td>1,000,000,000+</td>\n",
       "      <td>Free</td>\n",
       "      <td>0</td>\n",
       "      <td>Teen</td>\n",
       "      <td>Social</td>\n",
       "      <td>July 31, 2018</td>\n",
       "      <td>Varies with device</td>\n",
       "      <td>Varies with device</td>\n",
       "    </tr>\n",
       "  </tbody>\n",
       "</table>\n",
       "</div>"
      ],
      "text/plain": [
       "            App Category Rating   Reviews                Size        Installs  \\\n",
       "2545  Instagram   SOCIAL    4.5  66577313  Varies with device  1,000,000,000+   \n",
       "2604  Instagram   SOCIAL    4.5  66577446  Varies with device  1,000,000,000+   \n",
       "2611  Instagram   SOCIAL    4.5  66577313  Varies with device  1,000,000,000+   \n",
       "3909  Instagram   SOCIAL    4.5  66509917  Varies with device  1,000,000,000+   \n",
       "\n",
       "      Type Price Content Rating  Genres   Last Updated         Current Ver  \\\n",
       "2545  Free     0           Teen  Social  July 31, 2018  Varies with device   \n",
       "2604  Free     0           Teen  Social  July 31, 2018  Varies with device   \n",
       "2611  Free     0           Teen  Social  July 31, 2018  Varies with device   \n",
       "3909  Free     0           Teen  Social  July 31, 2018  Varies with device   \n",
       "\n",
       "             Android Ver  \n",
       "2545  Varies with device  \n",
       "2604  Varies with device  \n",
       "2611  Varies with device  \n",
       "3909  Varies with device  "
      ]
     },
     "execution_count": 173,
     "metadata": {},
     "output_type": "execute_result"
    }
   ],
   "source": [
    "# Check Instagram Duplicate values in the Record\n",
    "df [df[\"App\"] == \"Instagram\"]"
   ]
  },
  {
   "cell_type": "code",
   "execution_count": 174,
   "id": "3f279553",
   "metadata": {},
   "outputs": [
    {
     "data": {
      "text/html": [
       "<div>\n",
       "<style scoped>\n",
       "    .dataframe tbody tr th:only-of-type {\n",
       "        vertical-align: middle;\n",
       "    }\n",
       "\n",
       "    .dataframe tbody tr th {\n",
       "        vertical-align: top;\n",
       "    }\n",
       "\n",
       "    .dataframe thead th {\n",
       "        text-align: right;\n",
       "    }\n",
       "</style>\n",
       "<table border=\"1\" class=\"dataframe\">\n",
       "  <thead>\n",
       "    <tr style=\"text-align: right;\">\n",
       "      <th></th>\n",
       "      <th>App</th>\n",
       "      <th>Category</th>\n",
       "      <th>Rating</th>\n",
       "      <th>Reviews</th>\n",
       "      <th>Size</th>\n",
       "      <th>Installs</th>\n",
       "      <th>Type</th>\n",
       "      <th>Price</th>\n",
       "      <th>Content Rating</th>\n",
       "      <th>Genres</th>\n",
       "      <th>Last Updated</th>\n",
       "      <th>Current Ver</th>\n",
       "      <th>Android Ver</th>\n",
       "    </tr>\n",
       "  </thead>\n",
       "  <tbody>\n",
       "    <tr>\n",
       "      <th>2545</th>\n",
       "      <td>Instagram</td>\n",
       "      <td>SOCIAL</td>\n",
       "      <td>4.5</td>\n",
       "      <td>66577313</td>\n",
       "      <td>Varies with device</td>\n",
       "      <td>1,000,000,000+</td>\n",
       "      <td>Free</td>\n",
       "      <td>0</td>\n",
       "      <td>Teen</td>\n",
       "      <td>Social</td>\n",
       "      <td>July 31, 2018</td>\n",
       "      <td>Varies with device</td>\n",
       "      <td>Varies with device</td>\n",
       "    </tr>\n",
       "    <tr>\n",
       "      <th>2604</th>\n",
       "      <td>Instagram</td>\n",
       "      <td>SOCIAL</td>\n",
       "      <td>4.5</td>\n",
       "      <td>66577446</td>\n",
       "      <td>Varies with device</td>\n",
       "      <td>1,000,000,000+</td>\n",
       "      <td>Free</td>\n",
       "      <td>0</td>\n",
       "      <td>Teen</td>\n",
       "      <td>Social</td>\n",
       "      <td>July 31, 2018</td>\n",
       "      <td>Varies with device</td>\n",
       "      <td>Varies with device</td>\n",
       "    </tr>\n",
       "    <tr>\n",
       "      <th>2611</th>\n",
       "      <td>Instagram</td>\n",
       "      <td>SOCIAL</td>\n",
       "      <td>4.5</td>\n",
       "      <td>66577313</td>\n",
       "      <td>Varies with device</td>\n",
       "      <td>1,000,000,000+</td>\n",
       "      <td>Free</td>\n",
       "      <td>0</td>\n",
       "      <td>Teen</td>\n",
       "      <td>Social</td>\n",
       "      <td>July 31, 2018</td>\n",
       "      <td>Varies with device</td>\n",
       "      <td>Varies with device</td>\n",
       "    </tr>\n",
       "    <tr>\n",
       "      <th>3909</th>\n",
       "      <td>Instagram</td>\n",
       "      <td>SOCIAL</td>\n",
       "      <td>4.5</td>\n",
       "      <td>66509917</td>\n",
       "      <td>Varies with device</td>\n",
       "      <td>1,000,000,000+</td>\n",
       "      <td>Free</td>\n",
       "      <td>0</td>\n",
       "      <td>Teen</td>\n",
       "      <td>Social</td>\n",
       "      <td>July 31, 2018</td>\n",
       "      <td>Varies with device</td>\n",
       "      <td>Varies with device</td>\n",
       "    </tr>\n",
       "  </tbody>\n",
       "</table>\n",
       "</div>"
      ],
      "text/plain": [
       "            App Category Rating   Reviews                Size        Installs  \\\n",
       "2545  Instagram   SOCIAL    4.5  66577313  Varies with device  1,000,000,000+   \n",
       "2604  Instagram   SOCIAL    4.5  66577446  Varies with device  1,000,000,000+   \n",
       "2611  Instagram   SOCIAL    4.5  66577313  Varies with device  1,000,000,000+   \n",
       "3909  Instagram   SOCIAL    4.5  66509917  Varies with device  1,000,000,000+   \n",
       "\n",
       "      Type Price Content Rating  Genres   Last Updated         Current Ver  \\\n",
       "2545  Free     0           Teen  Social  July 31, 2018  Varies with device   \n",
       "2604  Free     0           Teen  Social  July 31, 2018  Varies with device   \n",
       "2611  Free     0           Teen  Social  July 31, 2018  Varies with device   \n",
       "3909  Free     0           Teen  Social  July 31, 2018  Varies with device   \n",
       "\n",
       "             Android Ver  \n",
       "2545  Varies with device  \n",
       "2604  Varies with device  \n",
       "2611  Varies with device  \n",
       "3909  Varies with device  "
      ]
     },
     "execution_count": 174,
     "metadata": {},
     "output_type": "execute_result"
    }
   ],
   "source": [
    "# Check for duplicate rows based on the app column and marking as True\n",
    "duplicated_app = df[df.duplicated(subset=['App'], keep= False)]\n",
    "duplicated_app[duplicated_app['App'] == 'Instagram']"
   ]
  },
  {
   "cell_type": "code",
   "execution_count": 175,
   "id": "912b0cf8",
   "metadata": {},
   "outputs": [
    {
     "data": {
      "text/plain": [
       "798"
      ]
     },
     "execution_count": 175,
     "metadata": {},
     "output_type": "execute_result"
    }
   ],
   "source": [
    "# Check the num of duplicates apps\n",
    "duplicated_app_num = duplicated_app['App'].nunique()\n",
    "duplicated_app_num"
   ]
  },
  {
   "cell_type": "code",
   "execution_count": 176,
   "id": "aa0ef939",
   "metadata": {},
   "outputs": [
    {
     "data": {
      "text/plain": [
       "10841"
      ]
     },
     "execution_count": 176,
     "metadata": {},
     "output_type": "execute_result"
    }
   ],
   "source": [
    "# Actual Record \n",
    "df.shape[0]"
   ]
  },
  {
   "cell_type": "code",
   "execution_count": 177,
   "id": "20d24794",
   "metadata": {},
   "outputs": [
    {
     "data": {
      "text/plain": [
       "10043"
      ]
     },
     "execution_count": 177,
     "metadata": {},
     "output_type": "execute_result"
    }
   ],
   "source": [
    "# If we remove the duplicate rows then the record must be 10043\n",
    "10841 - 798"
   ]
  },
  {
   "cell_type": "markdown",
   "id": "5e48027b",
   "metadata": {},
   "source": [
    "### Observations"
   ]
  },
  {
   "cell_type": "markdown",
   "id": "f5558597",
   "metadata": {},
   "source": [
    "- To enhance the accuracy of our data analysis, we aim to eliminate duplicate entries for apps. Instead of a random removal approach, we will adopt a more refined strategy. Specifically, for apps like Instagram, where multiple entries exist with varying review counts indicating data collection at different times, we will prioritize retaining the entry with the highest number of reviews. This selection criterion ensures that we retain the most reliable ratings, as higher review counts generally correlate with greater credibility and user engagement."
   ]
  },
  {
   "cell_type": "code",
   "execution_count": 178,
   "id": "ad08001e",
   "metadata": {},
   "outputs": [],
   "source": [
    "# Get the numbers of max reviews for each app\n",
    "rev_max = df.groupby('App')['Reviews'].max()"
   ]
  },
  {
   "cell_type": "code",
   "execution_count": 179,
   "id": "ff3b55e6",
   "metadata": {},
   "outputs": [
    {
     "data": {
      "text/plain": [
       "'66577446'"
      ]
     },
     "execution_count": 179,
     "metadata": {},
     "output_type": "execute_result"
    }
   ],
   "source": [
    "# Check the Facebook Max Reviews\n",
    "rev_max['Instagram']"
   ]
  },
  {
   "cell_type": "code",
   "execution_count": 180,
   "id": "2e03175e",
   "metadata": {},
   "outputs": [
    {
     "data": {
      "text/html": [
       "<div>\n",
       "<style scoped>\n",
       "    .dataframe tbody tr th:only-of-type {\n",
       "        vertical-align: middle;\n",
       "    }\n",
       "\n",
       "    .dataframe tbody tr th {\n",
       "        vertical-align: top;\n",
       "    }\n",
       "\n",
       "    .dataframe thead th {\n",
       "        text-align: right;\n",
       "    }\n",
       "</style>\n",
       "<table border=\"1\" class=\"dataframe\">\n",
       "  <thead>\n",
       "    <tr style=\"text-align: right;\">\n",
       "      <th></th>\n",
       "      <th>App</th>\n",
       "      <th>Category</th>\n",
       "      <th>Rating</th>\n",
       "      <th>Reviews</th>\n",
       "      <th>Size</th>\n",
       "      <th>Installs</th>\n",
       "      <th>Type</th>\n",
       "      <th>Price</th>\n",
       "      <th>Content Rating</th>\n",
       "      <th>Genres</th>\n",
       "      <th>Last Updated</th>\n",
       "      <th>Current Ver</th>\n",
       "      <th>Android Ver</th>\n",
       "    </tr>\n",
       "  </thead>\n",
       "  <tbody>\n",
       "    <tr>\n",
       "      <th>2545</th>\n",
       "      <td>Instagram</td>\n",
       "      <td>SOCIAL</td>\n",
       "      <td>4.5</td>\n",
       "      <td>66577313</td>\n",
       "      <td>Varies with device</td>\n",
       "      <td>1,000,000,000+</td>\n",
       "      <td>Free</td>\n",
       "      <td>0</td>\n",
       "      <td>Teen</td>\n",
       "      <td>Social</td>\n",
       "      <td>July 31, 2018</td>\n",
       "      <td>Varies with device</td>\n",
       "      <td>Varies with device</td>\n",
       "    </tr>\n",
       "    <tr>\n",
       "      <th>2604</th>\n",
       "      <td>Instagram</td>\n",
       "      <td>SOCIAL</td>\n",
       "      <td>4.5</td>\n",
       "      <td>66577446</td>\n",
       "      <td>Varies with device</td>\n",
       "      <td>1,000,000,000+</td>\n",
       "      <td>Free</td>\n",
       "      <td>0</td>\n",
       "      <td>Teen</td>\n",
       "      <td>Social</td>\n",
       "      <td>July 31, 2018</td>\n",
       "      <td>Varies with device</td>\n",
       "      <td>Varies with device</td>\n",
       "    </tr>\n",
       "    <tr>\n",
       "      <th>2611</th>\n",
       "      <td>Instagram</td>\n",
       "      <td>SOCIAL</td>\n",
       "      <td>4.5</td>\n",
       "      <td>66577313</td>\n",
       "      <td>Varies with device</td>\n",
       "      <td>1,000,000,000+</td>\n",
       "      <td>Free</td>\n",
       "      <td>0</td>\n",
       "      <td>Teen</td>\n",
       "      <td>Social</td>\n",
       "      <td>July 31, 2018</td>\n",
       "      <td>Varies with device</td>\n",
       "      <td>Varies with device</td>\n",
       "    </tr>\n",
       "    <tr>\n",
       "      <th>3909</th>\n",
       "      <td>Instagram</td>\n",
       "      <td>SOCIAL</td>\n",
       "      <td>4.5</td>\n",
       "      <td>66509917</td>\n",
       "      <td>Varies with device</td>\n",
       "      <td>1,000,000,000+</td>\n",
       "      <td>Free</td>\n",
       "      <td>0</td>\n",
       "      <td>Teen</td>\n",
       "      <td>Social</td>\n",
       "      <td>July 31, 2018</td>\n",
       "      <td>Varies with device</td>\n",
       "      <td>Varies with device</td>\n",
       "    </tr>\n",
       "  </tbody>\n",
       "</table>\n",
       "</div>"
      ],
      "text/plain": [
       "            App Category Rating   Reviews                Size        Installs  \\\n",
       "2545  Instagram   SOCIAL    4.5  66577313  Varies with device  1,000,000,000+   \n",
       "2604  Instagram   SOCIAL    4.5  66577446  Varies with device  1,000,000,000+   \n",
       "2611  Instagram   SOCIAL    4.5  66577313  Varies with device  1,000,000,000+   \n",
       "3909  Instagram   SOCIAL    4.5  66509917  Varies with device  1,000,000,000+   \n",
       "\n",
       "      Type Price Content Rating  Genres   Last Updated         Current Ver  \\\n",
       "2545  Free     0           Teen  Social  July 31, 2018  Varies with device   \n",
       "2604  Free     0           Teen  Social  July 31, 2018  Varies with device   \n",
       "2611  Free     0           Teen  Social  July 31, 2018  Varies with device   \n",
       "3909  Free     0           Teen  Social  July 31, 2018  Varies with device   \n",
       "\n",
       "             Android Ver  \n",
       "2545  Varies with device  \n",
       "2604  Varies with device  \n",
       "2611  Varies with device  \n",
       "3909  Varies with device  "
      ]
     },
     "execution_count": 180,
     "metadata": {},
     "output_type": "execute_result"
    }
   ],
   "source": [
    "duplicated_app[duplicated_app['App'] == 'Instagram']"
   ]
  },
  {
   "cell_type": "markdown",
   "id": "304e9cec",
   "metadata": {},
   "source": [
    "- To achieve the desired outcome, we can utilize the rev_max dictionary to keep only the rows with the maximum number of reviews for each duplicating app and remove the rest of the duplicate entries."
   ]
  },
  {
   "cell_type": "code",
   "execution_count": 181,
   "id": "bc9fdecb",
   "metadata": {},
   "outputs": [],
   "source": [
    "# Create an empty list to store the cleaned Android data\n",
    "android_clean = []\n",
    "\n",
    "# Create an empty list to keep track of already added apps\n",
    "already_added = []\n",
    "\n",
    "# Iterate through each row of the DataFrame\n",
    "for index, row in df.iterrows():\n",
    "    name = row['App']\n",
    "    n_review = row['Reviews']\n",
    "\n",
    "    # Check if the current app has the maximum number of reviews and has not been added before\n",
    "    if (rev_max[name] == n_review) and (name not in already_added):\n",
    "        # Add the app to the android_cleaned list\n",
    "        android_clean.append(row)\n",
    "\n",
    "        # Add the app name to the already_added list\n",
    "        already_added.append(name)"
   ]
  },
  {
   "cell_type": "code",
   "execution_count": 182,
   "id": "3c35f0d1",
   "metadata": {},
   "outputs": [],
   "source": [
    "android_clean = pd.DataFrame(android_clean)"
   ]
  },
  {
   "cell_type": "markdown",
   "id": "5514c2f1",
   "metadata": {},
   "source": [
    "### Removing Non-English Apps"
   ]
  },
  {
   "cell_type": "markdown",
   "id": "534ab171",
   "metadata": {},
   "source": [
    "- Upon thorough exploration of the dataset, it becomes evident that the names of certain apps suggest they are not primarily targeted towards an English-speaking audience. Here are a few examples from both datasets."
   ]
  },
  {
   "cell_type": "code",
   "execution_count": 183,
   "id": "689a04dd",
   "metadata": {},
   "outputs": [],
   "source": [
    "def is_english(app_name):\n",
    "    lst = []\n",
    "    for i in app_name:\n",
    "        if ord(i) > 127:\n",
    "            lst.append(False)\n",
    "        else:\n",
    "            lst.append(True)\n",
    "    check = set(lst)\n",
    "    if False in check:\n",
    "        return False\n",
    "    else:\n",
    "        return True"
   ]
  },
  {
   "cell_type": "code",
   "execution_count": 184,
   "id": "3483277e",
   "metadata": {},
   "outputs": [
    {
     "data": {
      "text/plain": [
       "True"
      ]
     },
     "execution_count": 184,
     "metadata": {},
     "output_type": "execute_result"
    }
   ],
   "source": [
    "is_english('Instagram')"
   ]
  },
  {
   "cell_type": "code",
   "execution_count": 185,
   "id": "0cf94d63",
   "metadata": {},
   "outputs": [
    {
     "data": {
      "text/plain": [
       "False"
      ]
     },
     "execution_count": 185,
     "metadata": {},
     "output_type": "execute_result"
    }
   ],
   "source": [
    "is_english('Jokes 😢')"
   ]
  },
  {
   "cell_type": "markdown",
   "id": "7675d1c2",
   "metadata": {},
   "source": [
    "- To minimize the impact of data loss, we'll only remove apps if its name has more than three non-ASCII characters.\n",
    "\n",
    "- Modifying 'is_english' function:"
   ]
  },
  {
   "cell_type": "code",
   "execution_count": 186,
   "id": "ffb0c5f3",
   "metadata": {},
   "outputs": [],
   "source": [
    "def is_english(app_name):\n",
    "    lst = []\n",
    "    for i in app_name:\n",
    "        if ord(i) > 127:\n",
    "            lst.append(False)\n",
    "        else:\n",
    "            lst.append(True)\n",
    "    non_ascii = 0\n",
    "    for j in lst:\n",
    "        if j == False:\n",
    "            non_ascii += 1\n",
    "    if non_ascii > 3:\n",
    "        return False\n",
    "    else:\n",
    "        return True"
   ]
  },
  {
   "cell_type": "code",
   "execution_count": 187,
   "id": "93d7bad8",
   "metadata": {},
   "outputs": [
    {
     "data": {
      "text/plain": [
       "True"
      ]
     },
     "execution_count": 187,
     "metadata": {},
     "output_type": "execute_result"
    }
   ],
   "source": [
    "is_english('Jokes 😢')"
   ]
  },
  {
   "cell_type": "code",
   "execution_count": 188,
   "id": "66f36567",
   "metadata": {},
   "outputs": [
    {
     "data": {
      "text/plain": [
       "False"
      ]
     },
     "execution_count": 188,
     "metadata": {},
     "output_type": "execute_result"
    }
   ],
   "source": [
    "is_english('Jokes 😢😢😢😢')"
   ]
  },
  {
   "cell_type": "code",
   "execution_count": 189,
   "id": "65958f7e",
   "metadata": {},
   "outputs": [
    {
     "data": {
      "text/html": [
       "<div>\n",
       "<style scoped>\n",
       "    .dataframe tbody tr th:only-of-type {\n",
       "        vertical-align: middle;\n",
       "    }\n",
       "\n",
       "    .dataframe tbody tr th {\n",
       "        vertical-align: top;\n",
       "    }\n",
       "\n",
       "    .dataframe thead th {\n",
       "        text-align: right;\n",
       "    }\n",
       "</style>\n",
       "<table border=\"1\" class=\"dataframe\">\n",
       "  <thead>\n",
       "    <tr style=\"text-align: right;\">\n",
       "      <th></th>\n",
       "      <th>App</th>\n",
       "      <th>Category</th>\n",
       "      <th>Rating</th>\n",
       "      <th>Reviews</th>\n",
       "      <th>Size</th>\n",
       "      <th>Installs</th>\n",
       "      <th>Type</th>\n",
       "      <th>Price</th>\n",
       "      <th>Content Rating</th>\n",
       "      <th>Genres</th>\n",
       "      <th>Last Updated</th>\n",
       "      <th>Current Ver</th>\n",
       "      <th>Android Ver</th>\n",
       "    </tr>\n",
       "  </thead>\n",
       "  <tbody>\n",
       "    <tr>\n",
       "      <th>0</th>\n",
       "      <td>Photo Editor &amp; Candy Camera &amp; Grid &amp; ScrapBook</td>\n",
       "      <td>ART_AND_DESIGN</td>\n",
       "      <td>4.1</td>\n",
       "      <td>159</td>\n",
       "      <td>19M</td>\n",
       "      <td>10,000+</td>\n",
       "      <td>Free</td>\n",
       "      <td>0</td>\n",
       "      <td>Everyone</td>\n",
       "      <td>Art &amp; Design</td>\n",
       "      <td>January 7, 2018</td>\n",
       "      <td>1.0.0</td>\n",
       "      <td>4.0.3 and up</td>\n",
       "    </tr>\n",
       "    <tr>\n",
       "      <th>2</th>\n",
       "      <td>U Launcher Lite – FREE Live Cool Themes, Hide ...</td>\n",
       "      <td>ART_AND_DESIGN</td>\n",
       "      <td>4.7</td>\n",
       "      <td>87510</td>\n",
       "      <td>8.7M</td>\n",
       "      <td>5,000,000+</td>\n",
       "      <td>Free</td>\n",
       "      <td>0</td>\n",
       "      <td>Everyone</td>\n",
       "      <td>Art &amp; Design</td>\n",
       "      <td>August 1, 2018</td>\n",
       "      <td>1.2.4</td>\n",
       "      <td>4.0.3 and up</td>\n",
       "    </tr>\n",
       "    <tr>\n",
       "      <th>3</th>\n",
       "      <td>Sketch - Draw &amp; Paint</td>\n",
       "      <td>ART_AND_DESIGN</td>\n",
       "      <td>4.5</td>\n",
       "      <td>215644</td>\n",
       "      <td>25M</td>\n",
       "      <td>50,000,000+</td>\n",
       "      <td>Free</td>\n",
       "      <td>0</td>\n",
       "      <td>Teen</td>\n",
       "      <td>Art &amp; Design</td>\n",
       "      <td>June 8, 2018</td>\n",
       "      <td>Varies with device</td>\n",
       "      <td>4.2 and up</td>\n",
       "    </tr>\n",
       "    <tr>\n",
       "      <th>4</th>\n",
       "      <td>Pixel Draw - Number Art Coloring Book</td>\n",
       "      <td>ART_AND_DESIGN</td>\n",
       "      <td>4.3</td>\n",
       "      <td>967</td>\n",
       "      <td>2.8M</td>\n",
       "      <td>100,000+</td>\n",
       "      <td>Free</td>\n",
       "      <td>0</td>\n",
       "      <td>Everyone</td>\n",
       "      <td>Art &amp; Design;Creativity</td>\n",
       "      <td>June 20, 2018</td>\n",
       "      <td>1.1</td>\n",
       "      <td>4.4 and up</td>\n",
       "    </tr>\n",
       "    <tr>\n",
       "      <th>5</th>\n",
       "      <td>Paper flowers instructions</td>\n",
       "      <td>ART_AND_DESIGN</td>\n",
       "      <td>4.4</td>\n",
       "      <td>167</td>\n",
       "      <td>5.6M</td>\n",
       "      <td>50,000+</td>\n",
       "      <td>Free</td>\n",
       "      <td>0</td>\n",
       "      <td>Everyone</td>\n",
       "      <td>Art &amp; Design</td>\n",
       "      <td>March 26, 2017</td>\n",
       "      <td>1.0</td>\n",
       "      <td>2.3 and up</td>\n",
       "    </tr>\n",
       "  </tbody>\n",
       "</table>\n",
       "</div>"
      ],
      "text/plain": [
       "                                                 App        Category Rating  \\\n",
       "0     Photo Editor & Candy Camera & Grid & ScrapBook  ART_AND_DESIGN    4.1   \n",
       "2  U Launcher Lite – FREE Live Cool Themes, Hide ...  ART_AND_DESIGN    4.7   \n",
       "3                              Sketch - Draw & Paint  ART_AND_DESIGN    4.5   \n",
       "4              Pixel Draw - Number Art Coloring Book  ART_AND_DESIGN    4.3   \n",
       "5                         Paper flowers instructions  ART_AND_DESIGN    4.4   \n",
       "\n",
       "  Reviews  Size     Installs  Type Price Content Rating  \\\n",
       "0     159   19M      10,000+  Free     0       Everyone   \n",
       "2   87510  8.7M   5,000,000+  Free     0       Everyone   \n",
       "3  215644   25M  50,000,000+  Free     0           Teen   \n",
       "4     967  2.8M     100,000+  Free     0       Everyone   \n",
       "5     167  5.6M      50,000+  Free     0       Everyone   \n",
       "\n",
       "                    Genres     Last Updated         Current Ver   Android Ver  \n",
       "0             Art & Design  January 7, 2018               1.0.0  4.0.3 and up  \n",
       "2             Art & Design   August 1, 2018               1.2.4  4.0.3 and up  \n",
       "3             Art & Design     June 8, 2018  Varies with device    4.2 and up  \n",
       "4  Art & Design;Creativity    June 20, 2018                 1.1    4.4 and up  \n",
       "5             Art & Design   March 26, 2017                 1.0    2.3 and up  "
      ]
     },
     "execution_count": 189,
     "metadata": {},
     "output_type": "execute_result"
    }
   ],
   "source": [
    "android_english = android_clean[android_clean['App'].apply(is_english)]\n",
    "android_english.head()"
   ]
  },
  {
   "cell_type": "markdown",
   "id": "c443870b",
   "metadata": {},
   "source": [
    "### Isolating the Free Apps"
   ]
  },
  {
   "cell_type": "markdown",
   "id": "f4ad61e6",
   "metadata": {},
   "source": [
    "- As previously stated in the introduction, our development focus is solely on creating apps that are available for free download and installation. Our primary revenue stream is derived from in-app advertisements. However, our datasets encompass both free and non-free apps. To conduct our analysis, we must selectively isolate and consider only the free apps within both datasets."
   ]
  },
  {
   "cell_type": "markdown",
   "id": "c8089aa7",
   "metadata": {},
   "source": [
    "### Target Column: Price"
   ]
  },
  {
   "cell_type": "code",
   "execution_count": 190,
   "id": "ab49d711",
   "metadata": {},
   "outputs": [
    {
     "data": {
      "text/plain": [
       "array(['0', '$4.99', '$3.99', '$6.99', '$1.49', '$2.99', '$7.99', '$5.99',\n",
       "       '$3.49', '$1.99', '$9.99', '$7.49', '$0.99', '$9.00', '$5.49',\n",
       "       '$10.00', '$11.99', '$79.99', '$16.99', '$14.99', '$1.00',\n",
       "       '$29.99', '$12.99', '$2.49', '$24.99', '$10.99', '$1.50', '$19.99',\n",
       "       '$15.99', '$33.99', '$74.99', '$39.99', '$3.95', '$4.49', '$1.70',\n",
       "       '$8.99', '$2.00', '$3.88', '$25.99', '$399.99', '$17.99',\n",
       "       '$400.00', '$3.02', '$1.76', '$4.84', '$4.77', '$1.61', '$2.50',\n",
       "       '$1.59', '$6.49', '$1.29', '$5.00', '$13.99', '$299.99', '$379.99',\n",
       "       '$37.99', '$18.99', '$389.99', '$19.90', '$8.49', '$1.75',\n",
       "       '$14.00', '$4.85', '$46.99', '$109.99', '$154.99', '$3.08',\n",
       "       '$2.59', '$4.80', '$1.96', '$19.40', '$3.90', '$4.59', '$15.46',\n",
       "       '$3.04', '$4.29', '$2.60', '$3.28', '$4.60', '$28.99', '$2.95',\n",
       "       '$2.90', '$1.97', '$200.00', '$89.99', '$2.56', '$30.99', '$3.61',\n",
       "       '$394.99', '$1.26', '$1.20', '$1.04'], dtype=object)"
      ]
     },
     "execution_count": 190,
     "metadata": {},
     "output_type": "execute_result"
    }
   ],
   "source": [
    "android_english['Price'].unique()"
   ]
  },
  {
   "cell_type": "code",
   "execution_count": 191,
   "id": "277d8a3c",
   "metadata": {},
   "outputs": [],
   "source": [
    "android_final = android_english[android_english['Price'] == '0']\n",
    "# android_final"
   ]
  },
  {
   "cell_type": "code",
   "execution_count": 192,
   "id": "ec7e4add",
   "metadata": {},
   "outputs": [
    {
     "data": {
      "text/plain": [
       "(8863, 13)"
      ]
     },
     "execution_count": 192,
     "metadata": {},
     "output_type": "execute_result"
    }
   ],
   "source": [
    "android_final.shape"
   ]
  },
  {
   "cell_type": "code",
   "execution_count": 193,
   "id": "c0398c6b",
   "metadata": {},
   "outputs": [
    {
     "data": {
      "text/plain": [
       "FAMILY                 18.932641\n",
       "GAME                    9.691978\n",
       "TOOLS                   8.450863\n",
       "BUSINESS                4.592125\n",
       "LIFESTYLE               3.915153\n",
       "PRODUCTIVITY            3.892587\n",
       "FINANCE                 3.700779\n",
       "MEDICAL                 3.520253\n",
       "SPORTS                  3.396141\n",
       "PERSONALIZATION         3.317161\n",
       "COMMUNICATION           3.238181\n",
       "HEALTH_AND_FITNESS      3.080221\n",
       "PHOTOGRAPHY             2.944827\n",
       "NEWS_AND_MAGAZINES      2.798150\n",
       "SOCIAL                  2.662755\n",
       "TRAVEL_AND_LOCAL        2.335552\n",
       "SHOPPING                2.245289\n",
       "BOOKS_AND_REFERENCE     2.143744\n",
       "DATING                  1.861672\n",
       "VIDEO_PLAYERS           1.793975\n",
       "MAPS_AND_NAVIGATION     1.399075\n",
       "FOOD_AND_DRINK          1.241115\n",
       "EDUCATION               1.173418\n",
       "ENTERTAINMENT           0.959043\n",
       "LIBRARIES_AND_DEMO      0.936477\n",
       "AUTO_AND_VEHICLES       0.925195\n",
       "HOUSE_AND_HOME          0.823649\n",
       "WEATHER                 0.801083\n",
       "EVENTS                  0.710820\n",
       "PARENTING               0.654406\n",
       "ART_AND_DESIGN          0.643123\n",
       "COMICS                  0.620557\n",
       "BEAUTY                  0.597992\n",
       "Name: Category, dtype: float64"
      ]
     },
     "execution_count": 193,
     "metadata": {},
     "output_type": "execute_result"
    }
   ],
   "source": [
    "# Calculate the percentage distribution of app categories in the 'android_final' DataFrame using the 'Category' column\n",
    "android_final['Category'].value_counts(normalize = True)*100"
   ]
  },
  {
   "cell_type": "code",
   "execution_count": 195,
   "id": "d7729636",
   "metadata": {},
   "outputs": [
    {
     "data": {
      "image/png": "[encoded data removed]",
      "text/plain": [
       "<Figure size 1200x800 with 1 Axes>"
      ]
     },
     "metadata": {},
     "output_type": "display_data"
    }
   ],
   "source": [
    "categories = android_final[\"Category\"].value_counts().index[:15]\n",
    "counts = android_final[\"Category\"].value_counts().values[:15]\n",
    "percentage = round(android_final[\"Category\"].value_counts(normalize=True) * 100, 1)\n",
    "\n",
    "# Create a stylish bar chart\n",
    "plt.figure(figsize=(12, 8))\n",
    "bars = plt.bar(categories, counts, color='lightgray', alpha=0.75, edgecolor='black', linewidth=1.5)\n",
    "plt.xticks(rotation=90, fontsize=12)\n",
    "plt.yticks(fontsize=12)\n",
    "plt.grid(axis='y', linestyle='--', alpha=0.7)\n",
    "plt.grid(axis='x', linestyle=\"\", alpha=0.7)\n",
    "plt.xticks(fontsize=12)  # Customized tick Labels\n",
    "plt.yticks(range(0, 3000, 500), [], fontsize=12)  # Customized tick Labels and customized y-ticks range\n",
    "plt.tick_params(bottom=0, left=0)\n",
    "\n",
    "# Find the category with the highest count\n",
    "max_count_category = categories[counts.argmax()]\n",
    "\n",
    "# Highlight the bar for the category with the highest count\n",
    "max_count_index = list(categories).index(max_count_category)\n",
    "bars[max_count_index].set_color(\"pink\")\n",
    "bars[max_count_index].set_edgecolor('black')\n",
    "\n",
    "# Adding data Labels and percentages inside each bar\n",
    "for bar, perc in zip(bars, percentage):\n",
    "    height = bar.get_height()\n",
    "    plt.text(bar.get_x() + bar.get_width() / 2, height + 20, \"%d\" % int(height), ha='center', va='bottom',\n",
    "             fontsize=10)\n",
    "    plt.text(bar.get_x() + bar.get_width() / 2, height / 2, f'{perc}%', ha='center', va='bottom', fontsize=10)\n",
    "\n",
    "# Adding a background color\n",
    "ax = plt.gca()\n",
    "ax.set_facecolor(\"#f7f7f7\")\n",
    "\n",
    "# Add chart Title inside chart(Heading Line)\n",
    "plt.text(0.5, 0.95, 'Android App Categories with Zero Price', horizontalalignment='center',\n",
    "         transform=plt.gca().transAxes,\n",
    "         color='grey', fontweight='bold', fontsize=16)\n",
    "\n",
    "# Add chart Title inside chart(Bottom Line)\n",
    "plt.text(0.5, 0.86, \"The 'FAMILY' category stands out from other categories\\n showing considerable demand.\",\n",
    "         horizontalalignment='center', transform=plt.gca().transAxes,\n",
    "         color='grey', fontsize=14)\n",
    "\n",
    "# Remove Spines(Boundaries lines removed)\n",
    "for i in ['top', 'left', 'right']:\n",
    "    plt.gca().spines[i].set_visible(False)\n",
    "\n",
    "# Adjust layout to avoid clipping\n",
    "plt.tight_layout()\n",
    "\n",
    "plt.show()"
   ]
  },
  {
   "cell_type": "code",
   "execution_count": 196,
   "id": "9d508ec4",
   "metadata": {
    "scrolled": true
   },
   "outputs": [
    {
     "data": {
      "text/html": [
       "<div>\n",
       "<style scoped>\n",
       "    .dataframe tbody tr th:only-of-type {\n",
       "        vertical-align: middle;\n",
       "    }\n",
       "\n",
       "    .dataframe tbody tr th {\n",
       "        vertical-align: top;\n",
       "    }\n",
       "\n",
       "    .dataframe thead th {\n",
       "        text-align: right;\n",
       "    }\n",
       "</style>\n",
       "<table border=\"1\" class=\"dataframe\">\n",
       "  <thead>\n",
       "    <tr style=\"text-align: right;\">\n",
       "      <th></th>\n",
       "      <th>App</th>\n",
       "      <th>Category</th>\n",
       "      <th>Rating</th>\n",
       "      <th>Reviews</th>\n",
       "      <th>Size</th>\n",
       "      <th>Installs</th>\n",
       "      <th>Type</th>\n",
       "      <th>Price</th>\n",
       "      <th>Content Rating</th>\n",
       "      <th>Genres</th>\n",
       "      <th>Last Updated</th>\n",
       "      <th>Current Ver</th>\n",
       "      <th>Android Ver</th>\n",
       "    </tr>\n",
       "  </thead>\n",
       "  <tbody>\n",
       "    <tr>\n",
       "      <th>2017</th>\n",
       "      <td>Jewels Crush- Match 3 Puzzle</td>\n",
       "      <td>FAMILY</td>\n",
       "      <td>4.4</td>\n",
       "      <td>14774</td>\n",
       "      <td>19M</td>\n",
       "      <td>1,000,000+</td>\n",
       "      <td>Free</td>\n",
       "      <td>0</td>\n",
       "      <td>Everyone</td>\n",
       "      <td>Casual;Brain Games</td>\n",
       "      <td>July 23, 2018</td>\n",
       "      <td>1.9.3901</td>\n",
       "      <td>4.0.3 and up</td>\n",
       "    </tr>\n",
       "    <tr>\n",
       "      <th>2018</th>\n",
       "      <td>Coloring &amp; Learn</td>\n",
       "      <td>FAMILY</td>\n",
       "      <td>4.4</td>\n",
       "      <td>12753</td>\n",
       "      <td>51M</td>\n",
       "      <td>5,000,000+</td>\n",
       "      <td>Free</td>\n",
       "      <td>0</td>\n",
       "      <td>Everyone</td>\n",
       "      <td>Educational;Creativity</td>\n",
       "      <td>July 17, 2018</td>\n",
       "      <td>1.49</td>\n",
       "      <td>4.0.3 and up</td>\n",
       "    </tr>\n",
       "    <tr>\n",
       "      <th>2019</th>\n",
       "      <td>Mahjong</td>\n",
       "      <td>FAMILY</td>\n",
       "      <td>4.5</td>\n",
       "      <td>33983</td>\n",
       "      <td>22M</td>\n",
       "      <td>5,000,000+</td>\n",
       "      <td>Free</td>\n",
       "      <td>0</td>\n",
       "      <td>Everyone</td>\n",
       "      <td>Puzzle;Brain Games</td>\n",
       "      <td>August 2, 2018</td>\n",
       "      <td>1.24.3181</td>\n",
       "      <td>4.0.3 and up</td>\n",
       "    </tr>\n",
       "    <tr>\n",
       "      <th>2020</th>\n",
       "      <td>Super ABC! Learning games for kids! Preschool ...</td>\n",
       "      <td>FAMILY</td>\n",
       "      <td>4.6</td>\n",
       "      <td>20267</td>\n",
       "      <td>46M</td>\n",
       "      <td>1,000,000+</td>\n",
       "      <td>Free</td>\n",
       "      <td>0</td>\n",
       "      <td>Everyone</td>\n",
       "      <td>Educational;Education</td>\n",
       "      <td>July 16, 2018</td>\n",
       "      <td>1.1.6.7</td>\n",
       "      <td>4.1 and up</td>\n",
       "    </tr>\n",
       "    <tr>\n",
       "      <th>2021</th>\n",
       "      <td>Toy Pop Cubes</td>\n",
       "      <td>FAMILY</td>\n",
       "      <td>4.5</td>\n",
       "      <td>5761</td>\n",
       "      <td>21M</td>\n",
       "      <td>1,000,000+</td>\n",
       "      <td>Free</td>\n",
       "      <td>0</td>\n",
       "      <td>Everyone</td>\n",
       "      <td>Casual;Brain Games</td>\n",
       "      <td>July 4, 2018</td>\n",
       "      <td>1.8.3181</td>\n",
       "      <td>4.0.3 and up</td>\n",
       "    </tr>\n",
       "    <tr>\n",
       "      <th>...</th>\n",
       "      <td>...</td>\n",
       "      <td>...</td>\n",
       "      <td>...</td>\n",
       "      <td>...</td>\n",
       "      <td>...</td>\n",
       "      <td>...</td>\n",
       "      <td>...</td>\n",
       "      <td>...</td>\n",
       "      <td>...</td>\n",
       "      <td>...</td>\n",
       "      <td>...</td>\n",
       "      <td>...</td>\n",
       "      <td>...</td>\n",
       "    </tr>\n",
       "    <tr>\n",
       "      <th>10821</th>\n",
       "      <td>Poop FR</td>\n",
       "      <td>FAMILY</td>\n",
       "      <td>NaN</td>\n",
       "      <td>6</td>\n",
       "      <td>2.5M</td>\n",
       "      <td>50+</td>\n",
       "      <td>Free</td>\n",
       "      <td>0</td>\n",
       "      <td>Everyone</td>\n",
       "      <td>Entertainment</td>\n",
       "      <td>May 29, 2018</td>\n",
       "      <td>1.0</td>\n",
       "      <td>4.0.3 and up</td>\n",
       "    </tr>\n",
       "    <tr>\n",
       "      <th>10827</th>\n",
       "      <td>Fr Agnel Ambarnath</td>\n",
       "      <td>FAMILY</td>\n",
       "      <td>4.2</td>\n",
       "      <td>117</td>\n",
       "      <td>13M</td>\n",
       "      <td>5,000+</td>\n",
       "      <td>Free</td>\n",
       "      <td>0</td>\n",
       "      <td>Everyone</td>\n",
       "      <td>Education</td>\n",
       "      <td>June 13, 2018</td>\n",
       "      <td>2.0.20</td>\n",
       "      <td>4.0.3 and up</td>\n",
       "    </tr>\n",
       "    <tr>\n",
       "      <th>10834</th>\n",
       "      <td>FR Calculator</td>\n",
       "      <td>FAMILY</td>\n",
       "      <td>4.0</td>\n",
       "      <td>7</td>\n",
       "      <td>2.6M</td>\n",
       "      <td>500+</td>\n",
       "      <td>Free</td>\n",
       "      <td>0</td>\n",
       "      <td>Everyone</td>\n",
       "      <td>Education</td>\n",
       "      <td>June 18, 2017</td>\n",
       "      <td>1.0.0</td>\n",
       "      <td>4.1 and up</td>\n",
       "    </tr>\n",
       "    <tr>\n",
       "      <th>10836</th>\n",
       "      <td>Sya9a Maroc - FR</td>\n",
       "      <td>FAMILY</td>\n",
       "      <td>4.5</td>\n",
       "      <td>38</td>\n",
       "      <td>53M</td>\n",
       "      <td>5,000+</td>\n",
       "      <td>Free</td>\n",
       "      <td>0</td>\n",
       "      <td>Everyone</td>\n",
       "      <td>Education</td>\n",
       "      <td>July 25, 2017</td>\n",
       "      <td>1.48</td>\n",
       "      <td>4.1 and up</td>\n",
       "    </tr>\n",
       "    <tr>\n",
       "      <th>10837</th>\n",
       "      <td>Fr. Mike Schmitz Audio Teachings</td>\n",
       "      <td>FAMILY</td>\n",
       "      <td>5.0</td>\n",
       "      <td>4</td>\n",
       "      <td>3.6M</td>\n",
       "      <td>100+</td>\n",
       "      <td>Free</td>\n",
       "      <td>0</td>\n",
       "      <td>Everyone</td>\n",
       "      <td>Education</td>\n",
       "      <td>July 6, 2018</td>\n",
       "      <td>1.0</td>\n",
       "      <td>4.1 and up</td>\n",
       "    </tr>\n",
       "  </tbody>\n",
       "</table>\n",
       "<p>1678 rows × 13 columns</p>\n",
       "</div>"
      ],
      "text/plain": [
       "                                                     App Category Rating  \\\n",
       "2017                        Jewels Crush- Match 3 Puzzle   FAMILY    4.4   \n",
       "2018                                    Coloring & Learn   FAMILY    4.4   \n",
       "2019                                             Mahjong   FAMILY    4.5   \n",
       "2020   Super ABC! Learning games for kids! Preschool ...   FAMILY    4.6   \n",
       "2021                                       Toy Pop Cubes   FAMILY    4.5   \n",
       "...                                                  ...      ...    ...   \n",
       "10821                                            Poop FR   FAMILY    NaN   \n",
       "10827                                 Fr Agnel Ambarnath   FAMILY    4.2   \n",
       "10834                                      FR Calculator   FAMILY    4.0   \n",
       "10836                                   Sya9a Maroc - FR   FAMILY    4.5   \n",
       "10837                   Fr. Mike Schmitz Audio Teachings   FAMILY    5.0   \n",
       "\n",
       "      Reviews  Size    Installs  Type Price Content Rating  \\\n",
       "2017    14774   19M  1,000,000+  Free     0       Everyone   \n",
       "2018    12753   51M  5,000,000+  Free     0       Everyone   \n",
       "2019    33983   22M  5,000,000+  Free     0       Everyone   \n",
       "2020    20267   46M  1,000,000+  Free     0       Everyone   \n",
       "2021     5761   21M  1,000,000+  Free     0       Everyone   \n",
       "...       ...   ...         ...   ...   ...            ...   \n",
       "10821       6  2.5M         50+  Free     0       Everyone   \n",
       "10827     117   13M      5,000+  Free     0       Everyone   \n",
       "10834       7  2.6M        500+  Free     0       Everyone   \n",
       "10836      38   53M      5,000+  Free     0       Everyone   \n",
       "10837       4  3.6M        100+  Free     0       Everyone   \n",
       "\n",
       "                       Genres    Last Updated Current Ver   Android Ver  \n",
       "2017       Casual;Brain Games   July 23, 2018    1.9.3901  4.0.3 and up  \n",
       "2018   Educational;Creativity   July 17, 2018        1.49  4.0.3 and up  \n",
       "2019       Puzzle;Brain Games  August 2, 2018   1.24.3181  4.0.3 and up  \n",
       "2020    Educational;Education   July 16, 2018     1.1.6.7    4.1 and up  \n",
       "2021       Casual;Brain Games    July 4, 2018    1.8.3181  4.0.3 and up  \n",
       "...                       ...             ...         ...           ...  \n",
       "10821           Entertainment    May 29, 2018         1.0  4.0.3 and up  \n",
       "10827               Education   June 13, 2018      2.0.20  4.0.3 and up  \n",
       "10834               Education   June 18, 2017       1.0.0    4.1 and up  \n",
       "10836               Education   July 25, 2017        1.48    4.1 and up  \n",
       "10837               Education    July 6, 2018         1.0    4.1 and up  \n",
       "\n",
       "[1678 rows x 13 columns]"
      ]
     },
     "execution_count": 196,
     "metadata": {},
     "output_type": "execute_result"
    }
   ],
   "source": [
    "android_final[android_final['Category'] == 'FAMILY']"
   ]
  },
  {
   "cell_type": "markdown",
   "id": "b0f38b8b",
   "metadata": {},
   "source": [
    "### The Most Popular Apps by Genre"
   ]
  },
  {
   "cell_type": "markdown",
   "id": "c94cf2c2",
   "metadata": {},
   "source": [
    "- For the Google Play market, we actually have data about the of installs, so we should be able to get a clearer picture about genre popularity, However, the install numbers don't seem precise enough. We can see that most values are open-ended(100+,1000+,5000+)"
   ]
  },
  {
   "cell_type": "code",
   "execution_count": 197,
   "id": "90107df2",
   "metadata": {},
   "outputs": [
    {
     "data": {
      "text/plain": [
       "1,000,000+        15.739592\n",
       "100,000+          11.553650\n",
       "10,000,000+       10.515627\n",
       "10,000+           10.199707\n",
       "1,000+             8.405732\n",
       "100+               6.916394\n",
       "5,000,000+         6.837414\n",
       "500,000+           5.573733\n",
       "50,000+            4.772650\n",
       "5,000+             4.513145\n",
       "10+                3.542818\n",
       "500+               3.249464\n",
       "50,000,000+        2.290421\n",
       "100,000,000+       2.121178\n",
       "50+                1.918086\n",
       "5+                 0.789800\n",
       "1+                 0.507729\n",
       "500,000,000+       0.270789\n",
       "1,000,000,000+     0.225657\n",
       "0+                 0.045131\n",
       "0                  0.011283\n",
       "Name: Installs, dtype: float64"
      ]
     },
     "execution_count": 197,
     "metadata": {},
     "output_type": "execute_result"
    }
   ],
   "source": [
    "android_final['Installs'].value_counts(normalize = True)*100"
   ]
  },
  {
   "cell_type": "code",
   "execution_count": 198,
   "id": "c0aa41a3",
   "metadata": {},
   "outputs": [
    {
     "data": {
      "text/plain": [
       "0           10000\n",
       "2         5000000\n",
       "3        50000000\n",
       "4          100000\n",
       "5           50000\n",
       "           ...   \n",
       "10836        5000\n",
       "10837         100\n",
       "10838        1000\n",
       "10839        1000\n",
       "10840    10000000\n",
       "Name: Installs_int, Length: 8863, dtype: int32"
      ]
     },
     "execution_count": 198,
     "metadata": {},
     "output_type": "execute_result"
    }
   ],
   "source": [
    "android_final['Installs_int'] = android_final['Installs'].str.replace('+','').str.replace(',','').astype(int)\n",
    "android_final['Installs_int']"
   ]
  },
  {
   "cell_type": "code",
   "execution_count": 199,
   "id": "8aa3514c",
   "metadata": {},
   "outputs": [
    {
     "data": {
      "text/plain": [
       "1000           745\n",
       "5000           400\n",
       "10000          904\n",
       "50000          423\n",
       "100000        1024\n",
       "500000         494\n",
       "1000000       1395\n",
       "5000000        606\n",
       "10000000       932\n",
       "50000000       203\n",
       "100000000      188\n",
       "500000000       24\n",
       "1000000000      20\n",
       "Name: Installs_int, dtype: int64"
      ]
     },
     "execution_count": 199,
     "metadata": {},
     "output_type": "execute_result"
    }
   ],
   "source": [
    "install_frq = android_final['Installs_int'].value_counts().sort_index()\n",
    "install_frq = install_frq[install_frq.index > 500]\n",
    "install_frq"
   ]
  },
  {
   "cell_type": "code",
   "execution_count": 200,
   "id": "c0c314a9",
   "metadata": {},
   "outputs": [
    {
     "data": {
      "text/plain": [
       "1000           8.41\n",
       "5000           4.51\n",
       "10000         10.20\n",
       "50000          4.77\n",
       "100000        11.55\n",
       "500000         5.57\n",
       "1000000       15.74\n",
       "5000000        6.84\n",
       "10000000      10.52\n",
       "50000000       2.29\n",
       "100000000      2.12\n",
       "500000000      0.27\n",
       "1000000000     0.23\n",
       "Name: Installs_int, dtype: float64"
      ]
     },
     "execution_count": 200,
     "metadata": {},
     "output_type": "execute_result"
    }
   ],
   "source": [
    "install_frq_per = round(android_final['Installs_int'].value_counts(normalize = True)*100,2).sort_index()\n",
    "install_frq_per = install_frq_per[install_frq_per.index > 500]\n",
    "install_frq_per"
   ]
  },
  {
   "cell_type": "code",
   "execution_count": 201,
   "id": "82e13eea",
   "metadata": {},
   "outputs": [],
   "source": [
    "#aplha numeric unit\n",
    "def alphanumeric_units(value):\n",
    "    if value >= 1e9:\n",
    "        return f'{value/ 1e9:.0f}B'\n",
    "    elif value >= 1e6:\n",
    "        return f'{value / 1e6:.0f}M'\n",
    "    elif value >= 1e3:\n",
    "        return f'{value / 1e3:.0f}K'\n",
    "    else:\n",
    "        return f'{value:.0f}'"
   ]
  },
  {
   "cell_type": "code",
   "execution_count": 202,
   "id": "c344b5e5",
   "metadata": {},
   "outputs": [
    {
     "data": {
      "text/plain": [
       "'1B'"
      ]
     },
     "execution_count": 202,
     "metadata": {},
     "output_type": "execute_result"
    }
   ],
   "source": [
    "alphanumeric_units(1000000000)"
   ]
  },
  {
   "cell_type": "code",
   "execution_count": 203,
   "id": "dff1615f",
   "metadata": {},
   "outputs": [
    {
     "data": {
      "text/plain": [
       "1K       745\n",
       "5K       400\n",
       "10K      904\n",
       "50K      423\n",
       "100K    1024\n",
       "500K     494\n",
       "1M      1395\n",
       "5M       606\n",
       "10M      932\n",
       "50M      203\n",
       "100M     188\n",
       "500M      24\n",
       "1B        20\n",
       "Name: Installs_int, dtype: int64"
      ]
     },
     "execution_count": 203,
     "metadata": {},
     "output_type": "execute_result"
    }
   ],
   "source": [
    "install_frq.index = install_frq.index.map(alphanumeric_units)\n",
    "install_frq"
   ]
  },
  {
   "cell_type": "code",
   "execution_count": 204,
   "id": "12c0bef3",
   "metadata": {},
   "outputs": [
    {
     "data": {
      "image/png": "[encoded data removed]",
      "text/plain": [
       "<Figure size 1200x700 with 1 Axes>"
      ]
     },
     "metadata": {},
     "output_type": "display_data"
    }
   ],
   "source": [
    "categories = install_frq.index\n",
    "counts = install_frq.values\n",
    "percentage1 = install_frq_per.values\n",
    "\n",
    "# Create a stylish bar chart\n",
    "plt.figure(figsize=(12, 7))\n",
    "bars = plt.bar(categories, counts, color='skyblue', alpha=0.75, edgecolor='black', linewidth=1.5)\n",
    "plt.xticks(rotation=90, fontsize=12)\n",
    "plt.yticks(fontsize=12)\n",
    "plt.grid(axis='y', linestyle='--', alpha=0.7)\n",
    "plt.grid(axis='x', linestyle=\"\")\n",
    "plt.xticks(fontsize=12)  # Customized tick Labels\n",
    "plt.yticks(range(0, 2500, 500), [], fontsize=12)  # Customized tick Labels and customized y-ticks range\n",
    "plt.tick_params(bottom=0, left=0)\n",
    "\n",
    "# Find the category with the highest count\n",
    "max_count_category = categories[counts.argmax()]\n",
    "\n",
    "# Highlight the bar for the category with the highest count\n",
    "max_count_index = list(categories).index(max_count_category)\n",
    "bars[max_count_index].set_color(\"pink\")\n",
    "bars[max_count_index].set_edgecolor('black')\n",
    "\n",
    "# Adding data Labels and percentages inside each bar\n",
    "for bar, perc in zip(bars, percentage1):\n",
    "    height = bar.get_height()\n",
    "    plt.text(bar.get_x() + bar.get_width() / 2, height + 20, \"%d\" % int(height), ha='center', va='bottom', fontsize=10)\n",
    "    plt.text(bar.get_x() + bar.get_width() / 2, height / 2, f'{perc}%', ha='center', va='bottom', fontsize=10,\n",
    "             color='black')  # Specify color here\n",
    "\n",
    "# Adding a background color\n",
    "ax = plt.gca()\n",
    "ax.set_facecolor(\"#f7f7f7\")\n",
    "\n",
    "# Adding CHART TITLE inside the chart\n",
    "plt.text(0.5, 0.95, 'Distribution of Android App Installs', horizontalalignment=\"center\", fontsize=16, \\\n",
    "         transform=plt.gca().transAxes, color='gray', fontweight='bold')\n",
    "\n",
    "# Removing spines\n",
    "for i in [\"top\", \"right\", \"left\"]:\n",
    "    plt.gca().spines[i].set_visible(False)\n",
    "\n",
    "# Adjust layout to prevent clipping\n",
    "plt.tight_layout()\n",
    "plt.show()\n"
   ]
  },
  {
   "cell_type": "code",
   "execution_count": 205,
   "id": "424254a8",
   "metadata": {},
   "outputs": [
    {
     "data": {
      "text/plain": [
       "array(['ART_AND_DESIGN', 'AUTO_AND_VEHICLES', 'BEAUTY',\n",
       "       'BOOKS_AND_REFERENCE', 'BUSINESS', 'COMICS', 'COMMUNICATION',\n",
       "       'DATING', 'EDUCATION', 'ENTERTAINMENT', 'EVENTS', 'FINANCE',\n",
       "       'FOOD_AND_DRINK', 'HEALTH_AND_FITNESS', 'HOUSE_AND_HOME',\n",
       "       'LIBRARIES_AND_DEMO', 'LIFESTYLE', 'GAME', 'FAMILY', 'MEDICAL',\n",
       "       'SOCIAL', 'SHOPPING', 'PHOTOGRAPHY', 'SPORTS', 'TRAVEL_AND_LOCAL',\n",
       "       'TOOLS', 'PERSONALIZATION', 'PRODUCTIVITY', 'PARENTING', 'WEATHER',\n",
       "       'VIDEO_PLAYERS', 'NEWS_AND_MAGAZINES', 'MAPS_AND_NAVIGATION'],\n",
       "      dtype=object)"
      ]
     },
     "execution_count": 205,
     "metadata": {},
     "output_type": "execute_result"
    }
   ],
   "source": [
    "categories_android = android_final['Category'].unique()\n",
    "categories_android"
   ]
  },
  {
   "cell_type": "code",
   "execution_count": 206,
   "id": "a51300c0",
   "metadata": {},
   "outputs": [
    {
     "data": {
      "text/html": [
       "<div>\n",
       "<style scoped>\n",
       "    .dataframe tbody tr th:only-of-type {\n",
       "        vertical-align: middle;\n",
       "    }\n",
       "\n",
       "    .dataframe tbody tr th {\n",
       "        vertical-align: top;\n",
       "    }\n",
       "\n",
       "    .dataframe thead th {\n",
       "        text-align: right;\n",
       "    }\n",
       "</style>\n",
       "<table border=\"1\" class=\"dataframe\">\n",
       "  <thead>\n",
       "    <tr style=\"text-align: right;\">\n",
       "      <th></th>\n",
       "      <th>Installs_int</th>\n",
       "    </tr>\n",
       "    <tr>\n",
       "      <th>Category</th>\n",
       "      <th></th>\n",
       "    </tr>\n",
       "  </thead>\n",
       "  <tbody>\n",
       "    <tr>\n",
       "      <th>ART_AND_DESIGN</th>\n",
       "      <td>1.986335e+06</td>\n",
       "    </tr>\n",
       "    <tr>\n",
       "      <th>AUTO_AND_VEHICLES</th>\n",
       "      <td>6.473178e+05</td>\n",
       "    </tr>\n",
       "    <tr>\n",
       "      <th>BEAUTY</th>\n",
       "      <td>5.131519e+05</td>\n",
       "    </tr>\n",
       "    <tr>\n",
       "      <th>BOOKS_AND_REFERENCE</th>\n",
       "      <td>8.767812e+06</td>\n",
       "    </tr>\n",
       "    <tr>\n",
       "      <th>BUSINESS</th>\n",
       "      <td>1.712290e+06</td>\n",
       "    </tr>\n",
       "    <tr>\n",
       "      <th>COMICS</th>\n",
       "      <td>8.176573e+05</td>\n",
       "    </tr>\n",
       "    <tr>\n",
       "      <th>COMMUNICATION</th>\n",
       "      <td>3.845612e+07</td>\n",
       "    </tr>\n",
       "    <tr>\n",
       "      <th>DATING</th>\n",
       "      <td>8.540288e+05</td>\n",
       "    </tr>\n",
       "    <tr>\n",
       "      <th>EDUCATION</th>\n",
       "      <td>1.820673e+06</td>\n",
       "    </tr>\n",
       "    <tr>\n",
       "      <th>ENTERTAINMENT</th>\n",
       "      <td>1.164071e+07</td>\n",
       "    </tr>\n",
       "    <tr>\n",
       "      <th>EVENTS</th>\n",
       "      <td>2.535422e+05</td>\n",
       "    </tr>\n",
       "    <tr>\n",
       "      <th>FAMILY</th>\n",
       "      <td>3.694276e+06</td>\n",
       "    </tr>\n",
       "    <tr>\n",
       "      <th>FINANCE</th>\n",
       "      <td>1.387692e+06</td>\n",
       "    </tr>\n",
       "    <tr>\n",
       "      <th>FOOD_AND_DRINK</th>\n",
       "      <td>1.924898e+06</td>\n",
       "    </tr>\n",
       "    <tr>\n",
       "      <th>GAME</th>\n",
       "      <td>1.556097e+07</td>\n",
       "    </tr>\n",
       "    <tr>\n",
       "      <th>HEALTH_AND_FITNESS</th>\n",
       "      <td>4.188822e+06</td>\n",
       "    </tr>\n",
       "    <tr>\n",
       "      <th>HOUSE_AND_HOME</th>\n",
       "      <td>1.331541e+06</td>\n",
       "    </tr>\n",
       "    <tr>\n",
       "      <th>LIBRARIES_AND_DEMO</th>\n",
       "      <td>6.385037e+05</td>\n",
       "    </tr>\n",
       "    <tr>\n",
       "      <th>LIFESTYLE</th>\n",
       "      <td>1.433676e+06</td>\n",
       "    </tr>\n",
       "    <tr>\n",
       "      <th>MAPS_AND_NAVIGATION</th>\n",
       "      <td>4.056942e+06</td>\n",
       "    </tr>\n",
       "    <tr>\n",
       "      <th>MEDICAL</th>\n",
       "      <td>1.206165e+05</td>\n",
       "    </tr>\n",
       "    <tr>\n",
       "      <th>NEWS_AND_MAGAZINES</th>\n",
       "      <td>9.549178e+06</td>\n",
       "    </tr>\n",
       "    <tr>\n",
       "      <th>PARENTING</th>\n",
       "      <td>5.426036e+05</td>\n",
       "    </tr>\n",
       "    <tr>\n",
       "      <th>PERSONALIZATION</th>\n",
       "      <td>5.201483e+06</td>\n",
       "    </tr>\n",
       "    <tr>\n",
       "      <th>PHOTOGRAPHY</th>\n",
       "      <td>1.780563e+07</td>\n",
       "    </tr>\n",
       "    <tr>\n",
       "      <th>PRODUCTIVITY</th>\n",
       "      <td>1.678733e+07</td>\n",
       "    </tr>\n",
       "    <tr>\n",
       "      <th>SHOPPING</th>\n",
       "      <td>7.036877e+06</td>\n",
       "    </tr>\n",
       "    <tr>\n",
       "      <th>SOCIAL</th>\n",
       "      <td>2.325365e+07</td>\n",
       "    </tr>\n",
       "    <tr>\n",
       "      <th>SPORTS</th>\n",
       "      <td>3.638640e+06</td>\n",
       "    </tr>\n",
       "    <tr>\n",
       "      <th>TOOLS</th>\n",
       "      <td>1.068230e+07</td>\n",
       "    </tr>\n",
       "    <tr>\n",
       "      <th>TRAVEL_AND_LOCAL</th>\n",
       "      <td>1.398408e+07</td>\n",
       "    </tr>\n",
       "    <tr>\n",
       "      <th>VIDEO_PLAYERS</th>\n",
       "      <td>2.472787e+07</td>\n",
       "    </tr>\n",
       "    <tr>\n",
       "      <th>WEATHER</th>\n",
       "      <td>5.074486e+06</td>\n",
       "    </tr>\n",
       "  </tbody>\n",
       "</table>\n",
       "</div>"
      ],
      "text/plain": [
       "                     Installs_int\n",
       "Category                         \n",
       "ART_AND_DESIGN       1.986335e+06\n",
       "AUTO_AND_VEHICLES    6.473178e+05\n",
       "BEAUTY               5.131519e+05\n",
       "BOOKS_AND_REFERENCE  8.767812e+06\n",
       "BUSINESS             1.712290e+06\n",
       "COMICS               8.176573e+05\n",
       "COMMUNICATION        3.845612e+07\n",
       "DATING               8.540288e+05\n",
       "EDUCATION            1.820673e+06\n",
       "ENTERTAINMENT        1.164071e+07\n",
       "EVENTS               2.535422e+05\n",
       "FAMILY               3.694276e+06\n",
       "FINANCE              1.387692e+06\n",
       "FOOD_AND_DRINK       1.924898e+06\n",
       "GAME                 1.556097e+07\n",
       "HEALTH_AND_FITNESS   4.188822e+06\n",
       "HOUSE_AND_HOME       1.331541e+06\n",
       "LIBRARIES_AND_DEMO   6.385037e+05\n",
       "LIFESTYLE            1.433676e+06\n",
       "MAPS_AND_NAVIGATION  4.056942e+06\n",
       "MEDICAL              1.206165e+05\n",
       "NEWS_AND_MAGAZINES   9.549178e+06\n",
       "PARENTING            5.426036e+05\n",
       "PERSONALIZATION      5.201483e+06\n",
       "PHOTOGRAPHY          1.780563e+07\n",
       "PRODUCTIVITY         1.678733e+07\n",
       "SHOPPING             7.036877e+06\n",
       "SOCIAL               2.325365e+07\n",
       "SPORTS               3.638640e+06\n",
       "TOOLS                1.068230e+07\n",
       "TRAVEL_AND_LOCAL     1.398408e+07\n",
       "VIDEO_PLAYERS        2.472787e+07\n",
       "WEATHER              5.074486e+06"
      ]
     },
     "execution_count": 206,
     "metadata": {},
     "output_type": "execute_result"
    }
   ],
   "source": [
    "pd.pivot_table(android_final, values='Installs_int', index = 'Category', aggfunc = 'mean')"
   ]
  },
  {
   "cell_type": "code",
   "execution_count": 207,
   "id": "e3555d01",
   "metadata": {},
   "outputs": [],
   "source": [
    "# Display dataframe without scientific notation\n",
    "pd.options.display.float_format = '{:.0f}'.format"
   ]
  },
  {
   "cell_type": "code",
   "execution_count": 208,
   "id": "e097da68",
   "metadata": {},
   "outputs": [
    {
     "data": {
      "text/plain": [
       "Category\n",
       "COMMUNICATION         38456119\n",
       "VIDEO_PLAYERS         24727872\n",
       "SOCIAL                23253652\n",
       "PHOTOGRAPHY           17805628\n",
       "PRODUCTIVITY          16787331\n",
       "GAME                  15560966\n",
       "TRAVEL_AND_LOCAL      13984078\n",
       "ENTERTAINMENT         11640706\n",
       "TOOLS                 10682301\n",
       "NEWS_AND_MAGAZINES     9549178\n",
       "BOOKS_AND_REFERENCE    8767812\n",
       "SHOPPING               7036877\n",
       "PERSONALIZATION        5201483\n",
       "WEATHER                5074486\n",
       "HEALTH_AND_FITNESS     4188822\n",
       "MAPS_AND_NAVIGATION    4056942\n",
       "FAMILY                 3694276\n",
       "SPORTS                 3638640\n",
       "ART_AND_DESIGN         1986335\n",
       "FOOD_AND_DRINK         1924898\n",
       "EDUCATION              1820673\n",
       "BUSINESS               1712290\n",
       "LIFESTYLE              1433676\n",
       "FINANCE                1387692\n",
       "HOUSE_AND_HOME         1331541\n",
       "DATING                  854029\n",
       "COMICS                  817657\n",
       "AUTO_AND_VEHICLES       647318\n",
       "LIBRARIES_AND_DEMO      638504\n",
       "PARENTING               542604\n",
       "BEAUTY                  513152\n",
       "EVENTS                  253542\n",
       "MEDICAL                 120616\n",
       "Name: Installs_int, dtype: float64"
      ]
     },
     "execution_count": 208,
     "metadata": {},
     "output_type": "execute_result"
    }
   ],
   "source": [
    "categories_installs = pd.pivot_table(android_final, values='Installs_int', index = 'Category', aggfunc = 'mean')\n",
    "categories_installs = categories_installs.sort_values(by = 'Installs_int', ascending = False)\n",
    "categories_installs = categories_installs['Installs_int']\n",
    "categories_installs"
   ]
  },
  {
   "cell_type": "code",
   "execution_count": 209,
   "id": "103f742a",
   "metadata": {},
   "outputs": [],
   "source": [
    "def alphanum_units(value):\n",
    "    if value >= 1e9:\n",
    "        return f'{value/ 1e9:.1f}B'\n",
    "    elif value >= 1e6:\n",
    "        return f'{value / 1e6:.1f}M'\n",
    "    elif value >= 1e3:\n",
    "        return f'{value / 1e3:.1f}K'\n",
    "    else:\n",
    "        return f'{value:.1f}'"
   ]
  },
  {
   "cell_type": "code",
   "execution_count": 210,
   "id": "185d76c6",
   "metadata": {},
   "outputs": [
    {
     "data": {
      "text/plain": [
       "Category\n",
       "COMMUNICATION           38.5M\n",
       "VIDEO_PLAYERS           24.7M\n",
       "SOCIAL                  23.3M\n",
       "PHOTOGRAPHY             17.8M\n",
       "PRODUCTIVITY            16.8M\n",
       "GAME                    15.6M\n",
       "TRAVEL_AND_LOCAL        14.0M\n",
       "ENTERTAINMENT           11.6M\n",
       "TOOLS                   10.7M\n",
       "NEWS_AND_MAGAZINES       9.5M\n",
       "BOOKS_AND_REFERENCE      8.8M\n",
       "SHOPPING                 7.0M\n",
       "PERSONALIZATION          5.2M\n",
       "WEATHER                  5.1M\n",
       "HEALTH_AND_FITNESS       4.2M\n",
       "MAPS_AND_NAVIGATION      4.1M\n",
       "FAMILY                   3.7M\n",
       "SPORTS                   3.6M\n",
       "ART_AND_DESIGN           2.0M\n",
       "FOOD_AND_DRINK           1.9M\n",
       "EDUCATION                1.8M\n",
       "BUSINESS                 1.7M\n",
       "LIFESTYLE                1.4M\n",
       "FINANCE                  1.4M\n",
       "HOUSE_AND_HOME           1.3M\n",
       "DATING                 854.0K\n",
       "COMICS                 817.7K\n",
       "AUTO_AND_VEHICLES      647.3K\n",
       "LIBRARIES_AND_DEMO     638.5K\n",
       "PARENTING              542.6K\n",
       "BEAUTY                 513.2K\n",
       "EVENTS                 253.5K\n",
       "MEDICAL                120.6K\n",
       "Name: Installs_int, dtype: object"
      ]
     },
     "execution_count": 210,
     "metadata": {},
     "output_type": "execute_result"
    }
   ],
   "source": [
    "categories_installs_units = categories_installs.map(alphanum_units)\n",
    "categories_installs_units"
   ]
  },
  {
   "cell_type": "code",
   "execution_count": 211,
   "id": "97138723",
   "metadata": {},
   "outputs": [
    {
     "data": {
      "image/png": "[encoded data removed]",
      "text/plain": [
       "<Figure size 1200x700 with 1 Axes>"
      ]
     },
     "metadata": {},
     "output_type": "display_data"
    }
   ],
   "source": [
    "categories = categories_installs.index[:15]\n",
    "counts = categories_installs.values[:15]\n",
    "\n",
    "# Convert string units to numerical values\n",
    "categories_installs_units_values = []\n",
    "for unit in categories_installs_units.values:\n",
    "    if 'M' in unit:\n",
    "        value = float(unit.replace('M', '')) * 1000000  # Convert million to numerical value\n",
    "        categories_installs_units_values.append(int(value))\n",
    "    elif 'K' in unit:\n",
    "        value = float(unit.replace('K', '')) * 1000  # Convert thousand to numerical value\n",
    "        categories_installs_units_values.append(int(value))\n",
    "    else:\n",
    "        categories_installs_units_values.append(int(unit.replace(',', '')))  # Convert other units to integers\n",
    "\n",
    "# Create a stylish bar chart\n",
    "plt.figure(figsize=(12, 7))\n",
    "bars = plt.bar(categories, counts, color='skyblue', alpha=0.75, edgecolor='black', linewidth=1.5)\n",
    "plt.xticks(rotation=90, fontsize=12)\n",
    "plt.yticks(fontsize=12)\n",
    "plt.grid(axis='y', linestyle='--', alpha=0.7)\n",
    "plt.grid(axis='x', linestyle=\"\")\n",
    "plt.xticks(fontsize=12)  # Customized tick Labels\n",
    "plt.yticks(range(0, 60000000, 10000000), [], fontsize=12)  # Customized tick Labels and customized y-ticks range\n",
    "plt.tick_params(bottom=0, left=0)\n",
    "\n",
    "# Find the category with the highest count\n",
    "max_count_category = categories[counts.argmax()]\n",
    "\n",
    "# Highlight the bar for the category with the highest count\n",
    "max_count_index = list(categories).index(max_count_category)\n",
    "bars[max_count_index].set_color(\"pink\")\n",
    "bars[max_count_index].set_edgecolor('black')\n",
    "\n",
    "# Adding data Labels and percentages inside each bar\n",
    "for bar, units in zip(bars, categories_installs_units_values):\n",
    "    height = bar.get_height()\n",
    "    plt.text(bar.get_x() + bar.get_width() / 2, height + 25, units, ha='center', va='bottom', fontsize=11)\n",
    "\n",
    "# Adding a background color\n",
    "ax = plt.gca()\n",
    "ax.set_facecolor(\"#f7f7f7\")\n",
    "\n",
    "# Adding CHART TITLE inside the chart\n",
    "plt.text(0.5, 0.95, 'Average Distribution of Android App Installs by Category', horizontalalignment=\"center\",\n",
    "         fontsize=16, transform=plt.gca().transAxes, color='gray', fontweight='bold')\n",
    "\n",
    "# Removing spines\n",
    "for i in [\"top\", \"right\", \"left\"]:\n",
    "    plt.gca().spines[i].set_visible(False)\n",
    "\n",
    "# Adjust layout to prevent clipping\n",
    "plt.tight_layout()\n",
    "plt.show()\n"
   ]
  },
  {
   "cell_type": "markdown",
   "id": "ec334c95",
   "metadata": {},
   "source": [
    "### Observation"
   ]
  },
  {
   "cell_type": "markdown",
   "id": "345aa69b",
   "metadata": {},
   "source": [
    "- Communication apps emerge as the frontrunners, boasting an impressive 38.5 million installations, closely trailed by Video Players with 24.7 million and Social apps with 23.3 million installs. These categories underscore substantial popularity among Android users, highlighting the significance of communication and media consumption in the mobile app landscape."
   ]
  },
  {
   "cell_type": "markdown",
   "id": "b1471acd",
   "metadata": {},
   "source": [
    "### Conclusion"
   ]
  },
  {
   "cell_type": "markdown",
   "id": "1a9e43f4",
   "metadata": {},
   "source": [
    "- An examination of the photography category highlights a noteworthy trend favoring the popularity of photo editing and collage-making applications, with numerous apps surpassing the 100 million installs mark. This pattern indicates a robust demand for photo-related functionalities among users. Consequently, there seems to be considerable potential for the creation of a photo generation application in 2024. Such an app, offering quick and free picture and photo generation, could capitalize on the existing user interest in photography apps. By incorporating innovative features, user-friendly design, and delivering high-quality output, this application could set itself apart in the competitive market and attract a substantial user base. Given the success of current photography apps and the evolving preferences of users, investing in the development of a photo generation app appears promising for capitalizing on this lucrative market segment in 2024."
   ]
  }
 ],
 "metadata": {
  "kernelspec": {
   "display_name": "Python 3 (ipykernel)",
   "language": "python",
   "name": "python3"
  },
  "language_info": {
   "codemirror_mode": {
    "name": "ipython",
    "version": 3
   },
   "file_extension": ".py",
   "mimetype": "text/x-python",
   "name": "python",
   "nbconvert_exporter": "python",
   "pygments_lexer": "ipython3",
   "version": "3.9.13"
  }
 },
 "nbformat": 4,
 "nbformat_minor": 5
}
